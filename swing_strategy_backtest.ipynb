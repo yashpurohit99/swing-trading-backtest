{
 "cells": [
  {
   "cell_type": "code",
   "execution_count": 1,
   "id": "1cc8f181-fc03-4e00-b595-1e971020fe2a",
   "metadata": {},
   "outputs": [],
   "source": [
    "import os\n",
    "os.chdir(\"C:/Users/ypuro/Swing Strategy Project/swing_strategy_project/notebooks\")\n"
   ]
  },
  {
   "cell_type": "code",
   "execution_count": 2,
   "id": "198d3814-3663-41ef-935d-af244120fbf0",
   "metadata": {},
   "outputs": [],
   "source": [
    "import sys\n",
    "sys.path.append(\"..\")\n"
   ]
  },
  {
   "cell_type": "code",
   "execution_count": 3,
   "id": "2778da52-c91c-421d-858a-7dfc1f93683a",
   "metadata": {},
   "outputs": [],
   "source": [
    "#CELL 1: Import All Dependencies\n",
    "import sys\n",
    "import os\n",
    "sys.path.append(os.path.abspath(os.path.join(os.getcwd(), '..')))\n",
    "\n",
    "import pandas as pd\n",
    "import matplotlib.pyplot as plt\n",
    "import numpy as np\n",
    "\n",
    "from strategy.swing_logic import SwingStrategy\n",
    "from utils.data_loader import fetch_daily_data, fetch_benchmark_data\n",
    "from backtest.backtest_engine import backtest\n"
   ]
  },
  {
   "cell_type": "code",
   "execution_count": 4,
   "id": "238d3e51-7d6b-45a6-af88-aca4e353fdbb",
   "metadata": {},
   "outputs": [
    {
     "name": "stdout",
     "output_type": "stream",
     "text": [
      "Fetching data for TATAMOTORS\n",
      "YF.download() has changed argument auto_adjust default to True\n",
      "Index(['Open', 'High', 'Low', 'Close', 'Volume'], dtype='object', name='Price')\n"
     ]
    },
    {
     "data": {
      "text/html": [
       "<div>\n",
       "<style scoped>\n",
       "    .dataframe tbody tr th:only-of-type {\n",
       "        vertical-align: middle;\n",
       "    }\n",
       "\n",
       "    .dataframe tbody tr th {\n",
       "        vertical-align: top;\n",
       "    }\n",
       "\n",
       "    .dataframe thead th {\n",
       "        text-align: right;\n",
       "    }\n",
       "</style>\n",
       "<table border=\"1\" class=\"dataframe\">\n",
       "  <thead>\n",
       "    <tr style=\"text-align: right;\">\n",
       "      <th>Price</th>\n",
       "      <th>Open</th>\n",
       "      <th>High</th>\n",
       "      <th>Low</th>\n",
       "      <th>Close</th>\n",
       "      <th>Volume</th>\n",
       "    </tr>\n",
       "    <tr>\n",
       "      <th>Date</th>\n",
       "      <th></th>\n",
       "      <th></th>\n",
       "      <th></th>\n",
       "      <th></th>\n",
       "      <th></th>\n",
       "    </tr>\n",
       "  </thead>\n",
       "  <tbody>\n",
       "    <tr>\n",
       "      <th>2023-12-22</th>\n",
       "      <td>710.689597</td>\n",
       "      <td>724.768561</td>\n",
       "      <td>705.930527</td>\n",
       "      <td>718.522278</td>\n",
       "      <td>12062238</td>\n",
       "    </tr>\n",
       "    <tr>\n",
       "      <th>2023-12-26</th>\n",
       "      <td>721.199256</td>\n",
       "      <td>721.298380</td>\n",
       "      <td>710.491273</td>\n",
       "      <td>713.416138</td>\n",
       "      <td>7229143</td>\n",
       "    </tr>\n",
       "    <tr>\n",
       "      <th>2023-12-27</th>\n",
       "      <td>721.794110</td>\n",
       "      <td>735.526021</td>\n",
       "      <td>718.968430</td>\n",
       "      <td>734.584167</td>\n",
       "      <td>15052800</td>\n",
       "    </tr>\n",
       "    <tr>\n",
       "      <th>2023-12-28</th>\n",
       "      <td>736.319290</td>\n",
       "      <td>751.488852</td>\n",
       "      <td>732.749941</td>\n",
       "      <td>747.473389</td>\n",
       "      <td>14906199</td>\n",
       "    </tr>\n",
       "    <tr>\n",
       "      <th>2023-12-29</th>\n",
       "      <td>748.563946</td>\n",
       "      <td>796.055643</td>\n",
       "      <td>747.572470</td>\n",
       "      <td>773.301270</td>\n",
       "      <td>41170191</td>\n",
       "    </tr>\n",
       "  </tbody>\n",
       "</table>\n",
       "</div>"
      ],
      "text/plain": [
       "Price             Open        High         Low       Close    Volume\n",
       "Date                                                                \n",
       "2023-12-22  710.689597  724.768561  705.930527  718.522278  12062238\n",
       "2023-12-26  721.199256  721.298380  710.491273  713.416138   7229143\n",
       "2023-12-27  721.794110  735.526021  718.968430  734.584167  15052800\n",
       "2023-12-28  736.319290  751.488852  732.749941  747.473389  14906199\n",
       "2023-12-29  748.563946  796.055643  747.572470  773.301270  41170191"
      ]
     },
     "execution_count": 4,
     "metadata": {},
     "output_type": "execute_result"
    }
   ],
   "source": [
    "#CELL 2: Load Stock + Benchmark Data\n",
    "symbol = \"TATAMOTORS\"\n",
    "start_date = \"2021-01-01\"\n",
    "end_date = \"2023-12-31\"\n",
    "\n",
    "print(f\"Fetching data for {symbol}\")\n",
    "stock_df = fetch_daily_data(symbol, start_date, end_date)\n",
    "print(stock_df.columns)\n",
    "benchmark_df = fetch_benchmark_data(start_date, end_date)\n",
    "\n",
    "\n",
    "# Optional Preview\n",
    "stock_df.tail()\n"
   ]
  },
  {
   "cell_type": "code",
   "execution_count": 5,
   "id": "4299feb5-716b-4549-9c08-790574a07cb5",
   "metadata": {},
   "outputs": [
    {
     "name": "stdout",
     "output_type": "stream",
     "text": [
      "RS55 NaNs: 55\n",
      "RSI NaNs: 13\n",
      "Swing High NaNs: 19\n",
      "ATR NaNs: 13\n",
      "\n",
      "Sample Indicator Data:\n",
      " Price            Close      RS55        RSI  Swing_High        ATR\n",
      "Date                                                              \n",
      "2023-12-15  726.156677  0.093194  79.291458  727.743014  13.855877\n",
      "2023-12-18  724.570251  0.089897  71.346142  728.486592  12.503222\n",
      "2023-12-19  722.736023  0.087360  62.769230  728.486592  11.550693\n",
      "2023-12-20  699.238098  0.065114  49.305136  728.486592  12.237644\n",
      "2023-12-21  702.807373  0.042475  51.990606  728.486592  12.779417\n",
      "2023-12-22  718.522278  0.074794  59.446095  728.486592  13.484072\n",
      "2023-12-26  713.416138  0.069498  55.150600  728.486592  13.554892\n",
      "2023-12-27  734.584167  0.087871  58.329563  735.526021  14.011681\n",
      "2023-12-28  747.473389  0.103048  62.961455  751.488852  14.535748\n",
      "2023-12-29  773.301270  0.149658  73.044368  796.055643  16.582436\n"
     ]
    },
    {
     "data": {
      "text/html": [
       "<div>\n",
       "<style scoped>\n",
       "    .dataframe tbody tr th:only-of-type {\n",
       "        vertical-align: middle;\n",
       "    }\n",
       "\n",
       "    .dataframe tbody tr th {\n",
       "        vertical-align: top;\n",
       "    }\n",
       "\n",
       "    .dataframe thead th {\n",
       "        text-align: right;\n",
       "    }\n",
       "</style>\n",
       "<table border=\"1\" class=\"dataframe\">\n",
       "  <thead>\n",
       "    <tr style=\"text-align: right;\">\n",
       "      <th></th>\n",
       "      <th>Date</th>\n",
       "      <th>Signal</th>\n",
       "      <th>Price</th>\n",
       "      <th>Stop_Loss</th>\n",
       "      <th>Target</th>\n",
       "    </tr>\n",
       "  </thead>\n",
       "  <tbody>\n",
       "    <tr>\n",
       "      <th>0</th>\n",
       "      <td>2021-05-11</td>\n",
       "      <td>BUY</td>\n",
       "      <td>311.888031</td>\n",
       "      <td>302.858335</td>\n",
       "      <td>329.947423</td>\n",
       "    </tr>\n",
       "    <tr>\n",
       "      <th>1</th>\n",
       "      <td>2021-06-02</td>\n",
       "      <td>SELL</td>\n",
       "      <td>319.251556</td>\n",
       "      <td>NaN</td>\n",
       "      <td>NaN</td>\n",
       "    </tr>\n",
       "    <tr>\n",
       "      <th>2</th>\n",
       "      <td>2021-06-04</td>\n",
       "      <td>BUY</td>\n",
       "      <td>331.062897</td>\n",
       "      <td>321.849648</td>\n",
       "      <td>349.489394</td>\n",
       "    </tr>\n",
       "    <tr>\n",
       "      <th>3</th>\n",
       "      <td>2021-06-24</td>\n",
       "      <td>SELL</td>\n",
       "      <td>330.766357</td>\n",
       "      <td>NaN</td>\n",
       "      <td>NaN</td>\n",
       "    </tr>\n",
       "    <tr>\n",
       "      <th>4</th>\n",
       "      <td>2021-10-04</td>\n",
       "      <td>BUY</td>\n",
       "      <td>338.031067</td>\n",
       "      <td>327.490541</td>\n",
       "      <td>359.112119</td>\n",
       "    </tr>\n",
       "  </tbody>\n",
       "</table>\n",
       "</div>"
      ],
      "text/plain": [
       "        Date Signal       Price   Stop_Loss      Target\n",
       "0 2021-05-11    BUY  311.888031  302.858335  329.947423\n",
       "1 2021-06-02   SELL  319.251556         NaN         NaN\n",
       "2 2021-06-04    BUY  331.062897  321.849648  349.489394\n",
       "3 2021-06-24   SELL  330.766357         NaN         NaN\n",
       "4 2021-10-04    BUY  338.031067  327.490541  359.112119"
      ]
     },
     "execution_count": 5,
     "metadata": {},
     "output_type": "execute_result"
    }
   ],
   "source": [
    "#CELL 3: Generate Trading Signals\n",
    "strategy = SwingStrategy(stock_df, benchmark_df)\n",
    "signals = strategy.generate_signals()\n",
    "signals.head()\n"
   ]
  },
  {
   "cell_type": "code",
   "execution_count": 6,
   "id": "8575e2d6-1166-4a88-889e-4963571daf65",
   "metadata": {},
   "outputs": [
    {
     "name": "stdout",
     "output_type": "stream",
     "text": [
      "    Buy_Date  Sell_Date   Buy_Price  Sell_Price         PnL\n",
      "0 2021-05-11 2021-06-02  311.888031  319.251556    7.363525\n",
      "1 2021-06-04 2021-06-24  331.062897  330.766357   -0.296539\n",
      "2 2021-10-04 2021-11-03  338.031067  479.272705  141.241638\n",
      "3 2021-11-16 2021-11-22  513.026428  480.458801  -32.567627\n",
      "4 2022-01-03 2022-01-04  491.825317  483.918182   -7.907135\n"
     ]
    }
   ],
   "source": [
    "results = backtest(signals)\n",
    "print(results.head())\n"
   ]
  },
  {
   "cell_type": "code",
   "execution_count": 7,
   "id": "d86fd852-0005-4c82-ac2a-b4fc9113f2c7",
   "metadata": {},
   "outputs": [
    {
     "name": "stdout",
     "output_type": "stream",
     "text": [
      "RS55 NaNs: 55\n",
      "RSI NaNs: 13\n",
      "Swing High NaNs: 19\n",
      "ATR NaNs: 13\n",
      "\n",
      "Sample Indicator Data:\n",
      " Price            Close      RS55        RSI  Swing_High        ATR\n",
      "Date                                                              \n",
      "2023-12-15  726.156677  0.093194  79.291458  727.743014  13.855877\n",
      "2023-12-18  724.570251  0.089897  71.346142  728.486592  12.503222\n",
      "2023-12-19  722.736023  0.087360  62.769230  728.486592  11.550693\n",
      "2023-12-20  699.238098  0.065114  49.305136  728.486592  12.237644\n",
      "2023-12-21  702.807373  0.042475  51.990606  728.486592  12.779417\n",
      "2023-12-22  718.522278  0.074794  59.446095  728.486592  13.484072\n",
      "2023-12-26  713.416138  0.069498  55.150600  728.486592  13.554892\n",
      "2023-12-27  734.584167  0.087871  58.329563  735.526021  14.011681\n",
      "2023-12-28  747.473389  0.103048  62.961455  751.488852  14.535748\n",
      "2023-12-29  773.301270  0.149658  73.044368  796.055643  16.582436\n",
      "Price            Close      RS55        RSI  Swing_High        ATR\n",
      "Date                                                              \n",
      "2023-12-15  726.156677  0.093194  79.291458  727.743014  13.855877\n",
      "2023-12-18  724.570251  0.089897  71.346142  728.486592  12.503222\n",
      "2023-12-19  722.736023  0.087360  62.769230  728.486592  11.550693\n",
      "2023-12-20  699.238098  0.065114  49.305136  728.486592  12.237644\n",
      "2023-12-21  702.807373  0.042475  51.990606  728.486592  12.779417\n",
      "2023-12-22  718.522278  0.074794  59.446095  728.486592  13.484072\n",
      "2023-12-26  713.416138  0.069498  55.150600  728.486592  13.554892\n",
      "2023-12-27  734.584167  0.087871  58.329563  735.526021  14.011681\n",
      "2023-12-28  747.473389  0.103048  62.961455  751.488852  14.535748\n",
      "2023-12-29  773.301270  0.149658  73.044368  796.055643  16.582436\n"
     ]
    }
   ],
   "source": [
    "strategy = SwingStrategy(stock_df, benchmark_df)\n",
    "signals = strategy.generate_signals()\n",
    "print(strategy.df[['Close', 'RS55', 'RSI', 'Swing_High', 'ATR']].tail(10))\n"
   ]
  },
  {
   "cell_type": "code",
   "execution_count": 8,
   "id": "e5d60c43-1427-45e5-8ed4-0b071ddba3b3",
   "metadata": {},
   "outputs": [
    {
     "name": "stdout",
     "output_type": "stream",
     "text": [
      "Index(['Open', 'High', 'Low', 'Close', 'Volume'], dtype='object', name='Price')\n"
     ]
    }
   ],
   "source": [
    "print(stock_df.columns)"
   ]
  },
  {
   "cell_type": "code",
   "execution_count": 9,
   "id": "ab3fea82-7986-4afa-a1b0-aede9f44c5f1",
   "metadata": {},
   "outputs": [
    {
     "data": {
      "text/html": [
       "<div>\n",
       "<style scoped>\n",
       "    .dataframe tbody tr th:only-of-type {\n",
       "        vertical-align: middle;\n",
       "    }\n",
       "\n",
       "    .dataframe tbody tr th {\n",
       "        vertical-align: top;\n",
       "    }\n",
       "\n",
       "    .dataframe thead th {\n",
       "        text-align: right;\n",
       "    }\n",
       "</style>\n",
       "<table border=\"1\" class=\"dataframe\">\n",
       "  <thead>\n",
       "    <tr style=\"text-align: right;\">\n",
       "      <th></th>\n",
       "      <th>Buy_Date</th>\n",
       "      <th>Sell_Date</th>\n",
       "      <th>Buy_Price</th>\n",
       "      <th>Sell_Price</th>\n",
       "      <th>PnL</th>\n",
       "    </tr>\n",
       "  </thead>\n",
       "  <tbody>\n",
       "    <tr>\n",
       "      <th>0</th>\n",
       "      <td>2021-05-11</td>\n",
       "      <td>2021-06-02</td>\n",
       "      <td>311.888031</td>\n",
       "      <td>319.251556</td>\n",
       "      <td>7.363525</td>\n",
       "    </tr>\n",
       "    <tr>\n",
       "      <th>1</th>\n",
       "      <td>2021-06-04</td>\n",
       "      <td>2021-06-24</td>\n",
       "      <td>331.062897</td>\n",
       "      <td>330.766357</td>\n",
       "      <td>-0.296539</td>\n",
       "    </tr>\n",
       "    <tr>\n",
       "      <th>2</th>\n",
       "      <td>2021-10-04</td>\n",
       "      <td>2021-11-03</td>\n",
       "      <td>338.031067</td>\n",
       "      <td>479.272705</td>\n",
       "      <td>141.241638</td>\n",
       "    </tr>\n",
       "    <tr>\n",
       "      <th>3</th>\n",
       "      <td>2021-11-16</td>\n",
       "      <td>2021-11-22</td>\n",
       "      <td>513.026428</td>\n",
       "      <td>480.458801</td>\n",
       "      <td>-32.567627</td>\n",
       "    </tr>\n",
       "    <tr>\n",
       "      <th>4</th>\n",
       "      <td>2022-01-03</td>\n",
       "      <td>2022-01-04</td>\n",
       "      <td>491.825317</td>\n",
       "      <td>483.918182</td>\n",
       "      <td>-7.907135</td>\n",
       "    </tr>\n",
       "  </tbody>\n",
       "</table>\n",
       "</div>"
      ],
      "text/plain": [
       "    Buy_Date  Sell_Date   Buy_Price  Sell_Price         PnL\n",
       "0 2021-05-11 2021-06-02  311.888031  319.251556    7.363525\n",
       "1 2021-06-04 2021-06-24  331.062897  330.766357   -0.296539\n",
       "2 2021-10-04 2021-11-03  338.031067  479.272705  141.241638\n",
       "3 2021-11-16 2021-11-22  513.026428  480.458801  -32.567627\n",
       "4 2022-01-03 2022-01-04  491.825317  483.918182   -7.907135"
      ]
     },
     "execution_count": 9,
     "metadata": {},
     "output_type": "execute_result"
    }
   ],
   "source": [
    "#CELL 4: Run Backtest\n",
    "results = backtest(signals)\n",
    "results.head()\n"
   ]
  },
  {
   "cell_type": "code",
   "execution_count": 10,
   "id": "262fea91-127d-43af-9400-5b3b0d84f11c",
   "metadata": {},
   "outputs": [
    {
     "data": {
      "image/png": "[encoded data removed]",
      "text/plain": [
       "<Figure size 640x480 with 1 Axes>"
      ]
     },
     "metadata": {},
     "output_type": "display_data"
    }
   ],
   "source": [
    "#CELL 5: Plot Equity Curve\n",
    "results['Cumulative PnL'] = results['PnL'].cumsum()\n",
    "results['Cumulative PnL'].plot(title=f\"Equity Curve: {symbol}\")\n",
    "plt.xlabel(\"Trade Number\")\n",
    "plt.ylabel(\"Cumulative Profit\")\n",
    "plt.grid(True)\n",
    "plt.show()\n"
   ]
  },
  {
   "cell_type": "code",
   "execution_count": 11,
   "id": "18e54594-c974-4198-9113-83335f61c265",
   "metadata": {},
   "outputs": [
    {
     "name": "stdout",
     "output_type": "stream",
     "text": [
      "Saved results to TATAMOTORS_backtest_results.csv\n"
     ]
    }
   ],
   "source": [
    "#CELL 6: Export CSV Report\n",
    "results.to_csv(f\"{symbol}_backtest_results.csv\", index=False)\n",
    "print(f\"Saved results to {symbol}_backtest_results.csv\")\n"
   ]
  },
  {
   "cell_type": "code",
   "execution_count": 12,
   "id": "ddfff586-ad65-477d-a232-f95419e0a7c6",
   "metadata": {},
   "outputs": [
    {
     "name": "stdout",
     "output_type": "stream",
     "text": [
      "\n",
      "Performance Summary:\n",
      "Total Trades: 15\n",
      "Win Rate: 40.00%\n",
      "Avg Win: ₹69.11, Avg Loss: ₹-15.25\n",
      "Reward to Risk Ratio: 4.53\n"
     ]
    }
   ],
   "source": [
    "#CELL 7: Show Basic Performance Metrics\n",
    "win_trades = results[results['PnL'] > 0]\n",
    "loss_trades = results[results['PnL'] <= 0]\n",
    "\n",
    "win_rate = len(win_trades) / len(results) * 100 if len(results) > 0 else 0\n",
    "avg_win = win_trades['PnL'].mean() if not win_trades.empty else 0\n",
    "avg_loss = loss_trades['PnL'].mean() if not loss_trades.empty else 0\n",
    "reward_risk = abs(avg_win / avg_loss) if avg_loss != 0 else np.nan\n",
    "\n",
    "print(\"\\nPerformance Summary:\")\n",
    "print(f\"Total Trades: {len(results)}\")\n",
    "print(f\"Win Rate: {win_rate:.2f}%\")\n",
    "print(f\"Avg Win: ₹{avg_win:.2f}, Avg Loss: ₹{avg_loss:.2f}\")\n",
    "print(f\"Reward to Risk Ratio: {reward_risk:.2f}\")\n"
   ]
  },
  {
   "cell_type": "code",
   "execution_count": 13,
   "id": "a74edf49-6186-43a9-a7ab-e89b37a19d87",
   "metadata": {},
   "outputs": [
    {
     "name": "stdout",
     "output_type": "stream",
     "text": [
      "Max Drawdown: 67.91%\n"
     ]
    }
   ],
   "source": [
    "#CELL 8: Calculate Drawdown\n",
    "results['Equity'] = results['Cumulative PnL']\n",
    "results['Roll_Max'] = results['Equity'].cummax()\n",
    "results['Drawdown'] = results['Roll_Max'] - results['Equity']\n",
    "results['Drawdown %'] = results['Drawdown'] / results['Roll_Max'] * 100\n",
    "\n",
    "max_drawdown = results['Drawdown %'].max()\n",
    "print(f\"Max Drawdown: {max_drawdown:.2f}%\")\n"
   ]
  },
  {
   "cell_type": "code",
   "execution_count": 15,
   "id": "bc328467-ea82-43af-80ca-c914d2545af4",
   "metadata": {},
   "outputs": [
    {
     "data": {
      "text/html": [
       "\n",
       "<h2>Strategy Report: TATAMOTORS</h2>\n",
       "<ul>\n",
       "  <li><b>Total Trades:</b> 15</li>\n",
       "  <li><b>Win Rate:</b> 40.00%</li>\n",
       "  <li><b>Avg Win:</b> ₹69.11</li>\n",
       "  <li><b>Avg Loss:</b> ₹-15.25</li>\n",
       "  <li><b>Reward to Risk Ratio:</b> 4.53</li>\n",
       "  <li><b>Max Drawdown:</b> 67.91%</li>\n",
       "</ul>\n"
      ],
      "text/plain": [
       "<IPython.core.display.HTML object>"
      ]
     },
     "execution_count": 15,
     "metadata": {},
     "output_type": "execute_result"
    }
   ],
   "source": [
    "#CELL 9: Generate HTML Strategy Report\n",
    "from IPython.core.display import HTML\n",
    "\n",
    "report_html = f\"\"\"\n",
    "<h2>Strategy Report: {symbol}</h2>\n",
    "<ul>\n",
    "  <li><b>Total Trades:</b> {len(results)}</li>\n",
    "  <li><b>Win Rate:</b> {win_rate:.2f}%</li>\n",
    "  <li><b>Avg Win:</b> ₹{avg_win:.2f}</li>\n",
    "  <li><b>Avg Loss:</b> ₹{avg_loss:.2f}</li>\n",
    "  <li><b>Reward to Risk Ratio:</b> {reward_risk:.2f}</li>\n",
    "  <li><b>Max Drawdown:</b> {max_drawdown:.2f}%</li>\n",
    "</ul>\n",
    "\"\"\"\n",
    "\n",
    "with open(f\"{symbol}_strategy_report.html\", \"w\", encoding=\"utf-8\") as f:\n",
    "    f.write(report_html)\n",
    "\n",
    "\n",
    "HTML(report_html)\n"
   ]
  },
  {
   "cell_type": "code",
   "execution_count": null,
   "id": "9e00ee6a-b33c-45a8-9a42-7df1c9941126",
   "metadata": {},
   "outputs": [],
   "source": []
  },
  {
   "cell_type": "code",
   "execution_count": null,
   "id": "717d8ad2-95ec-46bb-b126-806c93b7f132",
   "metadata": {},
   "outputs": [],
   "source": []
  },
  {
   "cell_type": "code",
   "execution_count": null,
   "id": "8f65905b-8d5e-4873-ba7e-d761a4ab2cdc",
   "metadata": {},
   "outputs": [],
   "source": []
  }
 ],
 "metadata": {
  "kernelspec": {
   "display_name": "Python 3 (ipykernel)",
   "language": "python",
   "name": "python3"
  },
  "language_info": {
   "codemirror_mode": {
    "name": "ipython",
    "version": 3
   },
   "file_extension": ".py",
   "mimetype": "text/x-python",
   "name": "python",
   "nbconvert_exporter": "python",
   "pygments_lexer": "ipython3",
   "version": "3.8.20"
  }
 },
 "nbformat": 4,
 "nbformat_minor": 5
}
